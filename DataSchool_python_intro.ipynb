{
  "cells": [
    {
      "cell_type": "markdown",
      "metadata": {
        "id": "view-in-github",
        "colab_type": "text"
      },
      "source": [
        "<a href=\"https://colab.research.google.com/github/BROC95/1785-js-herencia-polimorfismo/blob/ProyectoInicial/DataSchool_python_intro.ipynb\" target=\"_parent\"><img src=\"https://colab.research.google.com/assets/colab-badge.svg\" alt=\"Open In Colab\"/></a>"
      ]
    },
    {
      "cell_type": "markdown",
      "metadata": {
        "id": "Ea1CElOi_fTe"
      },
      "source": [
        "<div class=\"markdown-google-sans\">\n",
        "  <h1>Python</h1>\n",
        "</div>\n",
        "\n",
        "Python es un lenguaje de programacion usado por ingenieros de datos, ciencia de datos y ML, \n",
        "facil de aprender por su amplia comunidad. "
      ]
    },
    {
      "cell_type": "markdown",
      "metadata": {
        "id": "vV4PWJbz_fTl"
      },
      "source": [
        "<div class=\"markdown-google-sans\">\n",
        "  <h1>¿Qué es Colaboratory?</h1>\n",
        "</div>\n",
        "\n",
        "Colab, también conocido como \"Colaboratory\", te permite programar y ejecutar Python en tu navegador con las siguientes ventajas: \n",
        "- No requiere configuración\n",
        "- Acceso a GPUs sin coste adicional\n",
        "- Permite compartir contenido fácilmente\n",
        "\n",
        "Colab puede facilitar tu trabajo, ya seas <strong>estudiante</strong>, <strong>científico de datos</strong> o <strong>investigador de IA</strong>. No te pierdas el vídeo de <a href=\"https://www.youtube.com/watch?v=inN8seMm7UI\">Introducción a Colab</a> para obtener más información. O simplemente empieza con los pasos descritos más abajo."
      ]
    },
    {
      "cell_type": "markdown",
      "metadata": {
        "id": "onP_h4ws_fTm"
      },
      "source": [
        "## Entremos en materia\n",
        "\n",
        "Vamos a ver un poco de como funciona python, declaraciones, importaciones de paquetes, objetos y dataframe"
      ]
    },
    {
      "cell_type": "markdown",
      "metadata": {
        "id": "DPmRaDAd_fTn"
      },
      "source": [
        "### Declarar y usar variables en la ejecución interactiva."
      ]
    },
    {
      "cell_type": "code",
      "execution_count": null,
      "metadata": {
        "id": "OpHMWIu8_fTo"
      },
      "outputs": [],
      "source": [
        "x = 20\n",
        "y = 5 * 9\n",
        "x * y"
      ]
    },
    {
      "cell_type": "code",
      "execution_count": null,
      "metadata": {
        "id": "7AaUTHMG_fTq"
      },
      "outputs": [],
      "source": [
        "a = 12.5 / 100\n",
        "b = 100.50\n",
        "a * b"
      ]
    },
    {
      "cell_type": "code",
      "execution_count": null,
      "metadata": {
        "id": "kfWtIFLP_fTr"
      },
      "outputs": [],
      "source": [
        "# los strings pueden escribirse en varias líneas delimitandolos por paréntesis.\n",
        "text = ('Linea 1 '\n",
        "        'Linea 2 '\n",
        "        'Linea 3')\n",
        "\n",
        "print(text)"
      ]
    },
    {
      "cell_type": "markdown",
      "metadata": {
        "id": "ursDNVWr_fTr"
      },
      "source": [
        "### Ciclos"
      ]
    },
    {
      "cell_type": "code",
      "execution_count": null,
      "metadata": {
        "id": "Za7smQRC_fTs"
      },
      "outputs": [],
      "source": [
        "# Uso de ciclos\n",
        "\n",
        "x = 'abcdefghijklm'\n",
        "s = ''\n",
        "for i in range(len(x)):\n",
        "    s = s + \" \" + x[i]\n",
        "        \n",
        "print(s)"
      ]
    },
    {
      "cell_type": "code",
      "execution_count": null,
      "metadata": {
        "id": "HxutRkT5_fTt"
      },
      "outputs": [],
      "source": [
        "words = ['cat', 'window', 'door', 'abcdefg']\n",
        "for w in words:\n",
        "    print(w, len(w))"
      ]
    },
    {
      "cell_type": "markdown",
      "metadata": {
        "id": "_m-JO0ey_fTt"
      },
      "source": [
        "### Listas"
      ]
    },
    {
      "cell_type": "code",
      "execution_count": null,
      "metadata": {
        "id": "aAq2I0MV_fTu",
        "outputId": "2adba274-080c-4470-db91-0f3770ba0276",
        "colab": {
          "base_uri": "https://localhost:8080/"
        }
      },
      "outputs": [
        {
          "output_type": "stream",
          "name": "stdout",
          "text": [
            "1\n",
            "9\n",
            "16\n",
            "Holi\n"
          ]
        }
      ],
      "source": [
        "listas = [1, 4, 9, 16, 25]  # las listas se crean delimitando sus elementos entre comas\n",
        "print(listas[0]) #imprimir posicion de la lista\n",
        "print(listas[2])\n",
        "print(listas[3])"
      ]
    },
    {
      "cell_type": "markdown",
      "metadata": {
        "id": "5JjRmEi1_fTu"
      },
      "source": [
        "### Funciones"
      ]
    },
    {
      "cell_type": "code",
      "execution_count": null,
      "metadata": {
        "id": "D_3dHNWi_fTu"
      },
      "outputs": [],
      "source": [
        "def square(x):   # el caracter `:` es obligatorio\n",
        "    return x**2  # el cuerpo de la función esta definido por la identación (espacios en blanco)\n",
        "                 # es obligatorio usar `return` para devolver valores\n",
        "    \n",
        "square(2)"
      ]
    },
    {
      "cell_type": "markdown",
      "metadata": {
        "id": "cz_YiGc3_fTv"
      },
      "source": [
        "La identación usando espacios en blanco es el mecanismo definido en Python para delimitar el cuerpo asociado a las estructuras de control y a las funciones de usuario.\n",
        "\n",
        "En el siguiente ejemplo, la estructura else if es reemplazada comunmente por la palabra reservada elif. El uso del caracter : es obligatorio."
      ]
    },
    {
      "cell_type": "code",
      "execution_count": null,
      "metadata": {
        "id": "0HO09Zdm_fTv"
      },
      "outputs": [],
      "source": [
        "# este código es mucho más dificil de leer.\n",
        "x = int(input(\"Please enter an integer: \"))\n",
        "if x < 0:\n",
        "    x = 0\n",
        "    print('Negative changed to zero')\n",
        "else:\n",
        "    if x == 0:\n",
        "        print('Zero')\n",
        "    else:\n",
        "        if x == 1:\n",
        "            print('Single')\n",
        "        else:\n",
        "            print('More')"
      ]
    },
    {
      "cell_type": "markdown",
      "metadata": {
        "id": "VeFMo0h-_fTw"
      },
      "source": [
        "### Pandas"
      ]
    },
    {
      "cell_type": "code",
      "execution_count": null,
      "metadata": {
        "id": "oZ5bdHO2_fTw"
      },
      "outputs": [],
      "source": [
        "## importa la librería\n",
        "import pandas as pd\n",
        "import numpy as np\n",
        "\n",
        "Sepal_Length = [5.1, 4.9, 4.7, 4.6, 5, 5.4, 4.6, 5, 4.4, 4.9, 5.4, 7, 6.4 ,6.9 ,5.5 \n",
        "                ,6.5 ,5.7 ,6.3 ,4.9 ,6.6 ,5.2, 6.3 ,5.8 ,7.1 ,6.3 ,6.5 ,7.6 ,4.9 ,7.3 ,6.7 ]\n",
        "Sepal_Width = [3.5 ,3 ,3.2 ,3.1 ,3.6 ,3.9 ,3.4 ,3.4 ,2.9 ,3.1 ,3.2 ,3.2 ,3.1 ,2.3 \n",
        "               ,2.8 ,2.8 ,3.3 ,2.4 ,2.9 ,2.7 ,3.3 ,2.7 ,3 ,2.9 ,3 ,3 ,2.5 ,2.9 ,2.5 ,3.6]\n",
        "Petal_Length = [1.4 ,1.4 ,1.3 ,1.5 ,1.4 ,1.7 ,1.4 ,1.5 ,1.4 ,1.5 ,4.7 ,4.5 ,4.9 ,4 ,4.6 ,4.5 ,\n",
        "                4.7 ,3.3 ,4.6 ,3.9 ,6 ,5.1 ,5.9 ,5.6 ,5.8 ,6.6 ,4.5 ,6.3 ,5.8 ,6.1]\n",
        "Petal_Width = [0.2 ,0.2 ,0.2 ,0.2 ,0.2 ,0.4 ,0.3 ,0.2 ,0.2 ,0.1 ,1.4 ,1.5 ,1.5 ,1.3 ,1.5 ,1.3 ,1.6 \n",
        "               ,1 ,1.3 ,1.4 ,2.5 ,1.9 ,2.1 ,1.8 ,2.2 ,2.1 ,1.7 ,1.8 ,1.8 ,2.5]\n",
        "Species = [\"setosa\" ,\"setosa\" ,\"setosa\" ,\"setosa\" ,\"setosa\" ,\"setosa\" ,\"setosa\" ,\"setosa\" ,\"setosa\" ,\"setosa\" ,\"versicolor\"\n",
        "         ,\"versicolor\" ,\"versicolor\" ,\"versicolor\" ,\"versicolor\" ,\"versicolor\" ,\"versicolor\" ,\"versicolor\" ,\"versicolor\" ,\"versicolor\" ,\"virginica\"\n",
        "         ,\"virginica\" ,\"virginica\" ,\"virginica\" ,\"virginica\" ,\"virginica\" ,\"virginica\" ,\"virginica\" ,\"virginica\" ,\"virginica\"]\n",
        "\n",
        "df = pd.DataFrame({\n",
        "  'Sepal_Length': Sepal_Length,\n",
        "  'Sepal_Width': Sepal_Width,\n",
        "  'Petal_Length': Petal_Length,\n",
        "  'Petal_Width': Petal_Width,\n",
        "  'Species': Species\n",
        "})"
      ]
    },
    {
      "cell_type": "code",
      "execution_count": null,
      "metadata": {
        "id": "kaKdnAEs_fTx"
      },
      "outputs": [],
      "source": [
        "## Imprimir en pantalla la muestra de datos del dataframe, head() sirve para una muestra de informacion\n",
        "df.head()"
      ]
    },
    {
      "cell_type": "code",
      "execution_count": null,
      "metadata": {
        "id": "pyo1rlhh_fTx"
      },
      "outputs": [],
      "source": [
        "## ordena por varias columnas\n",
        "## devuelve los indices de las filas\n",
        "## ordena primero por Sepal.Width y luego por Sepal.Length\n",
        "df.sort_values(by = ['Sepal_Width', 'Sepal_Length']).head(10)"
      ]
    },
    {
      "cell_type": "code",
      "execution_count": null,
      "metadata": {
        "id": "RNkeHzbq_fTy"
      },
      "outputs": [],
      "source": [
        "## selecciona un subconjunto de los datos. filtrando por Species igual a 'virginica'\n",
        "df[df['Species'] == 'virginica'].head()"
      ]
    },
    {
      "cell_type": "code",
      "execution_count": null,
      "metadata": {
        "id": "B8p29x3r_fTy"
      },
      "outputs": [],
      "source": [
        "## funciones que pueden ser aplicadas a un DataFrame:\n",
        "##\n",
        "##    abs        all       any       clip    clip_lower  clip_upper\n",
        "##    corr       corrwith  count     cov     cummax      cummin\n",
        "##    cumprod    cumsum    describe  diff    eval        kurt\n",
        "##    mad        max       mean      median  min         mode\n",
        "##    ct_change  prod      quantile  rank    round       sem\n",
        "##    skew  sum  std       var\n",
        "##\n",
        "## se genera un nuevo DataFrame\n",
        "df.groupby('Species').sum()"
      ]
    },
    {
      "cell_type": "code",
      "execution_count": null,
      "metadata": {
        "id": "qYcrkIut_fTz"
      },
      "outputs": [],
      "source": [
        "# Agrupamos por el campo Species y sumamos los valores del campos Sepal_Lenght\n",
        "(df.groupby('Species').sum())[\"Sepal_Length\"]"
      ]
    },
    {
      "cell_type": "code",
      "execution_count": null,
      "metadata": {
        "id": "F5rRqCmL_fTz"
      },
      "outputs": [],
      "source": [
        "## aplica la función a la columna especificada por grupos\n",
        "(df.groupby('Species').mean())[[\"Sepal_Length\", \n",
        "                               \"Sepal_Width\",\n",
        "                               \"Petal_Length\",\n",
        "                               \"Petal_Width\"]]"
      ]
    },
    {
      "cell_type": "code",
      "execution_count": null,
      "metadata": {
        "id": "8it5Z-pz_fTz"
      },
      "outputs": [],
      "source": [
        "## conteo de casos.\n",
        "## número de casos por `Species`\n",
        "df['Species'].value_counts()"
      ]
    },
    {
      "cell_type": "code",
      "execution_count": null,
      "metadata": {
        "id": "HahaJsOE_fTz"
      },
      "outputs": [],
      "source": [
        "## aplicación de una funcion a columnas especificas \n",
        "## de un data.frame\n",
        "import numpy as np\n",
        "df[['Sepal_Length', 'Sepal_Width']].apply(np.mean)"
      ]
    },
    {
      "cell_type": "markdown",
      "metadata": {
        "id": "x4R41PvL_fT0"
      },
      "source": [
        "### En resumen\n",
        "\n",
        "Hicimos una breve introduccion a python donde aprendimos a declarar variables, uso de ciclos, listas\n",
        ", funciones y manipulacion de datos en dataframe"
      ]
    }
  ],
  "metadata": {
    "kernelspec": {
      "display_name": "Python 3",
      "language": "python",
      "name": "python3"
    },
    "language_info": {
      "codemirror_mode": {
        "name": "ipython",
        "version": 3
      },
      "file_extension": ".py",
      "mimetype": "text/x-python",
      "name": "python",
      "nbconvert_exporter": "python",
      "pygments_lexer": "ipython3",
      "version": "3.8.5"
    },
    "colab": {
      "provenance": [],
      "include_colab_link": true
    }
  },
  "nbformat": 4,
  "nbformat_minor": 0
}